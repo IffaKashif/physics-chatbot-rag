{
 "cells": [
  {
   "cell_type": "code",
   "execution_count": null,
   "id": "6fbffbb9-f331-4514-b6f2-15f5da2195ed",
   "metadata": {
    "scrolled": true
   },
   "outputs": [],
   "source": [
    "from langchain.document_loaders import Docx2txtLoader\n",
    "from langchain_community.document_loaders import Docx2txtLoader\n",
    "from langchain.text_splitter import RecursiveCharacterTextSplitter\n",
    "from langchain.vectorstores import FAISS\n",
    "from langchain.embeddings import HuggingFaceEmbeddings\n",
    "import os\n",
    "\n",
    "# Load DOCX files from folder\n",
    "folder_path =  \"A4/Physics/physics\"\n",
    "all_docs = []\n",
    "for filename in os.listdir(folder_path):\n",
    "    if filename.endswith(\".docx\"):\n",
    "        loader = Docx2txtLoader(os.path.join(folder_path, filename))\n",
    "        all_docs.extend(loader.load())\n",
    "\n",
    "# Split into chunks\n",
    "splitter = RecursiveCharacterTextSplitter(chunk_size=500, chunk_overlap=100)\n",
    "chunks = splitter.split_documents(all_docs)\n",
    "\n",
    "print(f\"✅ Total Chunks: {len(chunks)}\")\n",
    "\n",
    "# Create Embedding Model\n",
    "embedding_model = HuggingFaceEmbeddings(model_name=\"sentence-transformers/all-MiniLM-L6-v2\")\n",
    "\n",
    "# Build FAISS Vector Store\n",
    "vectorstore = FAISS.from_documents(chunks, embedding_model)\n",
    "vectorstore.save_local(\"faiss_index\")\n",
    "\n",
    "print(\"✅ FAISS index saved.\")\n"
   ]
  },
  {
   "cell_type": "code",
   "execution_count": null,
   "id": "80ead9de-b03e-42cd-97b9-4e5f63b949f6",
   "metadata": {},
   "outputs": [],
   "source": [
    "from transformers import pipeline\n",
    "from langchain.llms import HuggingFacePipeline\n",
    "from langchain.chains import RetrievalQA\n",
    "\n",
    "# load Embedding model again\n",
    "embedding_model = HuggingFaceEmbeddings(model_name=\"sentence-transformers/all-MiniLM-L6-v2\")\n",
    "\n",
    "# while loading FAISS index keep allow_dangerous_deserialization=True \n",
    "vectorstore = FAISS.load_local(\"faiss_index\", embedding_model, allow_dangerous_deserialization=True)\n",
    "\n",
    "# load Text generation model (GPT2 is simple and fast)\n",
    "generator = pipeline(\"text-generation\", model=\"gpt2\", max_new_tokens=200)\n",
    "llm = HuggingFacePipeline(pipeline=generator)\n",
    "\n",
    "# create QA chain \n",
    "qa_chain = RetrievalQA.from_chain_type(\n",
    "    llm=llm,\n",
    "    retriever=vectorstore.as_retriever(),\n",
    "    return_source_documents=True\n",
    ")\n",
    "\n",
    "print(\"QA Chain ready to use!\")\n"
   ]
  },
  {
   "cell_type": "code",
   "execution_count": null,
   "id": "f42f217c-fb7d-4f93-bff4-7d7f7d12a40d",
   "metadata": {},
   "outputs": [],
   "source": [
    "while True:\n",
    "    query = input(\"You: \")\n",
    "    if query.lower() in [\"exit\", \"quit\"]:\n",
    "        print(\"Bye! 👋\")\n",
    "        break\n",
    "    response = qa_chain.invoke({\"query\": query})  # invoke returns a dict\n",
    "    answer = response[\"result\"]  # gets main answer \n",
    "    print(\"Bot:\", answer)\n"
   ]
  },
  {
   "cell_type": "code",
   "execution_count": null,
   "id": "5f8da2a7-3f92-43ec-a63f-1ecc6a2b1f7b",
   "metadata": {},
   "outputs": [],
   "source": []
  }
 ],
 "metadata": {
  "kernelspec": {
   "display_name": "base",
   "language": "python",
   "name": "python3"
  },
  "language_info": {
   "codemirror_mode": {
    "name": "ipython",
    "version": 3
   },
   "file_extension": ".py",
   "mimetype": "text/x-python",
   "name": "python",
   "nbconvert_exporter": "python",
   "pygments_lexer": "ipython3",
   "version": "3.12.3"
  }
 },
 "nbformat": 4,
 "nbformat_minor": 5
}
